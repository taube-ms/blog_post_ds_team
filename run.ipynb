{
 "cells": [
  {
   "cell_type": "code",
   "execution_count": 1,
   "metadata": {},
   "outputs": [
    {
     "name": "stdout",
     "output_type": "stream",
     "text": [
      "              precision    recall  f1-score   support\n",
      "\n",
      "           0       1.00      1.00      1.00        19\n",
      "           1       0.62      1.00      0.76        13\n",
      "           2       1.00      0.38      0.56        13\n",
      "\n",
      "    accuracy                           0.82        45\n",
      "   macro avg       0.87      0.79      0.77        45\n",
      "weighted avg       0.89      0.82      0.80        45\n",
      "\n"
     ]
    },
    {
     "data": {
      "image/png": "[encoded data removed]",
      "text/plain": [
       "<Figure size 540x540 with 1 Axes>"
      ]
     },
     "metadata": {
      "needs_background": "light"
     },
     "output_type": "display_data"
    }
   ],
   "source": [
    "from ds_team.data_class import Data\n",
    "from ds_team.evaluter_class import Evaluator\n",
    "from ds_team.features_class import Features\n",
    "from ds_team.model_class import Model\n",
    "from ds_team.experiment_class import  Experiment\n",
    "from ds_team.error_analysis_class import  ErrorAnalysis\n",
    "\n",
    "myData = Data(data_version = 'iris')\n",
    "myFeatures = Features()\n",
    "myModel = Model(model_type = 'random_forest')\n",
    "myEvaluator = Evaluator()\n",
    "myExperiment = Experiment( data_class = myData,\n",
    "\t\t\t     features_class = myFeatures,\n",
    "\t\t\t     model_class = myModel,\n",
    "\t\t\t     evaluator_class = myEvaluator,\n",
    "                 target = 'target',\n",
    "                 features = ['sepal length (cm)', 'sepal width (cm)', 'petal length (cm)','petal width (cm)'],\n",
    "\t\t\t\t split = 0.3)\n",
    "\n",
    "report, df_result = myExperiment.run()\n",
    "\n",
    "print(report)\n",
    "\n",
    "ErrorAnalysis().plot_confusion_matrix(df_result)\n"
   ]
  },
  {
   "cell_type": "code",
   "execution_count": null,
   "metadata": {},
   "outputs": [],
   "source": []
  }
 ],
 "metadata": {
  "interpreter": {
   "hash": "f17b094ce6a3f9aadae4192867870589825825f726d6b19978a12d744d755bf6"
  },
  "kernelspec": {
   "display_name": "Python 3.9.12 ('py39')",
   "language": "python",
   "name": "python3"
  },
  "language_info": {
   "codemirror_mode": {
    "name": "ipython",
    "version": 3
   },
   "file_extension": ".py",
   "mimetype": "text/x-python",
   "name": "python",
   "nbconvert_exporter": "python",
   "pygments_lexer": "ipython3",
   "version": "3.9.12"
  },
  "orig_nbformat": 4
 },
 "nbformat": 4,
 "nbformat_minor": 2
}
